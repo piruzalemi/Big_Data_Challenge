{
  "nbformat": 4,
  "nbformat_minor": 0,
  "metadata": {
    "colab": {
      "name": "alemi ETL-RDS.ipynb",
      "provenance": [],
      "include_colab_link": true
    },
    "kernelspec": {
      "display_name": "Python 3",
      "language": "python",
      "name": "python3"
    },
    "language_info": {
      "codemirror_mode": {
        "name": "ipython",
        "version": 3
      },
      "file_extension": ".py",
      "mimetype": "text/x-python",
      "name": "python",
      "nbconvert_exporter": "python",
      "pygments_lexer": "ipython3",
      "version": "3.6.8"
    },
    "latex_envs": {
      "LaTeX_envs_menu_present": true,
      "autoclose": false,
      "autocomplete": true,
      "bibliofile": "biblio.bib",
      "cite_by": "apalike",
      "current_citInitial": 1,
      "eqLabelWithNumbers": true,
      "eqNumInitial": 1,
      "hotkeys": {
        "equation": "Ctrl-E",
        "itemize": "Ctrl-I"
      },
      "labels_anchors": false,
      "latex_user_defs": false,
      "report_style_numbering": false,
      "user_envs_cfg": false
    }
  },
  "cells": [
    {
      "cell_type": "markdown",
      "metadata": {
        "id": "view-in-github",
        "colab_type": "text"
      },
      "source": [
        "<a href=\"https://colab.research.google.com/github/piruzalemi/Big_Data_Challenge/blob/master/alemi_ETL_RDS.ipynb\" target=\"_parent\"><img src=\"https://colab.research.google.com/assets/colab-badge.svg\" alt=\"Open In Colab\"/></a>"
      ]
    },
    {
      "cell_type": "code",
      "metadata": {
        "colab_type": "code",
        "id": "Y6pz7LGh_L1p",
        "colab": {}
      },
      "source": [
        "# Install Java, Spark, and Findspark\n",
        "!apt-get install openjdk-8-jdk-headless -qq > /dev/null\n",
        "!wget -q http://www-us.apache.org/dist/spark/spark-2.4.5/spark-2.4.5-bin-hadoop2.7.tgz\n",
        "!tar xf spark-2.4.5-bin-hadoop2.7.tgz\n",
        "!pip install -q findspark\n",
        "\n",
        "# Set Environment Variables\n",
        "import os\n",
        "os.environ[\"JAVA_HOME\"] = \"/usr/lib/jvm/java-8-openjdk-amd64\"\n",
        "os.environ[\"SPARK_HOME\"] = \"/content/spark-2.4.5-bin-hadoop2.7\"\n",
        "\n",
        "# Start a SparkSession\n",
        "import findspark\n",
        "findspark.init()"
      ],
      "execution_count": 0,
      "outputs": []
    },
    {
      "cell_type": "code",
      "metadata": {
        "id": "Txkv8evHAX7N",
        "colab_type": "code",
        "outputId": "d7a1e3c2-103f-4075-dbba-845efa1230a6",
        "colab": {
          "base_uri": "https://localhost:8080/",
          "height": 204
        }
      },
      "source": [
        "!wget https://jdbc.postgresql.org/download/postgresql-42.2.9.jar"
      ],
      "execution_count": 31,
      "outputs": [
        {
          "output_type": "stream",
          "text": [
            "--2020-04-05 20:56:19--  https://jdbc.postgresql.org/download/postgresql-42.2.9.jar\n",
            "Resolving jdbc.postgresql.org (jdbc.postgresql.org)... 72.32.157.228, 2001:4800:3e1:1::228\n",
            "Connecting to jdbc.postgresql.org (jdbc.postgresql.org)|72.32.157.228|:443... connected.\n",
            "HTTP request sent, awaiting response... 200 OK\n",
            "Length: 914037 (893K) [application/java-archive]\n",
            "Saving to: ‘postgresql-42.2.9.jar.1’\n",
            "\n",
            "\rpostgresql-42.2.9.j   0%[                    ]       0  --.-KB/s               \rpostgresql-42.2.9.j 100%[===================>] 892.61K  --.-KB/s    in 0.1s    \n",
            "\n",
            "2020-04-05 20:56:19 (8.78 MB/s) - ‘postgresql-42.2.9.jar.1’ saved [914037/914037]\n",
            "\n"
          ],
          "name": "stdout"
        }
      ]
    },
    {
      "cell_type": "code",
      "metadata": {
        "id": "N1UeUG8GAX7Q",
        "colab_type": "code",
        "colab": {}
      },
      "source": [
        "from pyspark.sql import SparkSession\n",
        "spark = SparkSession.builder.appName(\"CloudETL\").config(\"spark.driver.extraClassPath\",\"/content/postgresql-42.2.9.jar\").getOrCreate()"
      ],
      "execution_count": 0,
      "outputs": []
    },
    {
      "cell_type": "code",
      "metadata": {
        "colab_type": "code",
        "id": "aIGU4Tzs_Q4g",
        "outputId": "6bb06c63-39cd-485a-b0a8-2dbc9af07b20",
        "colab": {
          "base_uri": "https://localhost:8080/",
          "height": 955
        }
      },
      "source": [
        "from pyspark import SparkFiles\n",
        "# Load in employee.csv from S3 into a DataFrame\n",
        "# url = \"https://alemi-bucket.s3.us-east-2.amazonaws.com/employee.csv\"\n",
        "url = \"https://s3.amazonaws.com/amazon-reviews-pds/tsv/sample_us.tsv\"\n",
        "spark.sparkContext.addFile(url)\n",
        "\n",
        "df = spark.read.option('header', 'true').csv(SparkFiles.get(\"sample_us.tsv\"), inferSchema=True, sep='\\t', timestampFormat=\"mm/dd/yy\")\n",
        "df.show(100)"
      ],
      "execution_count": 33,
      "outputs": [
        {
          "output_type": "stream",
          "text": [
            "+-----------+-----------+--------------+----------+--------------+--------------------+----------------+-----------+-------------+-----------+----+-----------------+--------------------+--------------------+-------------------+\n",
            "|marketplace|customer_id|     review_id|product_id|product_parent|       product_title|product_category|star_rating|helpful_votes|total_votes|vine|verified_purchase|     review_headline|         review_body|        review_date|\n",
            "+-----------+-----------+--------------+----------+--------------+--------------------+----------------+-----------+-------------+-----------+----+-----------------+--------------------+--------------------+-------------------+\n",
            "|         US|   18778586| RDIJS7QYB6XNR|B00EDBY7X8|     122952789|Monopoly Junior B...|            Toys|          5|            0|          0|   N|                Y|          Five Stars|        Excellent!!!|2015-08-31 00:00:00|\n",
            "|         US|   24769659|R36ED1U38IELG8|B00D7JFOPC|     952062646|56 Pieces of Wood...|            Toys|          5|            0|          0|   N|                Y|Good quality trac...|Great quality woo...|2015-08-31 00:00:00|\n",
            "|         US|   44331596| R1UE3RPRGCOLD|B002LHA74O|     818126353|Super Jumbo Playi...|            Toys|          2|            1|          1|   N|                Y|           Two Stars|Cards are not as ...|2015-08-31 00:00:00|\n",
            "|         US|   23310293|R298788GS6I901|B00ARPLCGY|     261944918|Barbie Doll and F...|            Toys|          5|            0|          0|   N|                Y|my daughter loved...|my daughter loved...|2015-08-31 00:00:00|\n",
            "|         US|   38745832|  RNX4EXOBBPN5|B00UZOPOFW|     717410439|Emazing Lights eL...|            Toys|          1|            1|          1|   N|                Y|     DONT BUY THESE!|Do not buy these!...|2015-08-31 00:00:00|\n",
            "|         US|   13394189|R3BPETL222LMIM|B009B7F6CA|     873028700|Melissa & Doug Wa...|            Toys|          5|            0|          0|   N|                Y|          Five Stars|Great item. Pictu...|2015-08-31 00:00:00|\n",
            "|         US|    2749569|R3SORMPJZO3F2J|B0101EHRSM|     723424342|Big Bang Cosmic P...|            Toys|          3|            2|          2|   N|                Y|         Three Stars|To keep together,...|2015-08-31 00:00:00|\n",
            "|         US|   41137196|R2RDOJQ0WBZCF6|B00407S11Y|     383363775|Fun Express Insec...|            Toys|          5|            0|          0|   N|                Y|          Five Stars|I was pleased wit...|2015-08-31 00:00:00|\n",
            "|         US|     433677|R2B8VBEPB4YEZ7|B00FGPU7U2|     780517568|Fisher-Price Octo...|            Toys|          5|            0|          0|   N|                Y|          Five Stars|    Children like it|2015-08-31 00:00:00|\n",
            "|         US|    1297934|R1CB783I7B0U52|B0013OY0S0|     269360126|Claw Climber Goli...|            Toys|          1|            0|          1|   N|                Y|Shame on the sell...|Showed up not how...|2015-08-31 00:00:00|\n",
            "|         US|   52006292| R2D90RQQ3V8LH|B00519PJTW|     493486387|100 Foot Multicol...|            Toys|          5|            0|          0|   N|                Y|          Five Stars|Really liked thes...|2015-08-31 00:00:00|\n",
            "|         US|   32071052|R1Y4ZOUGFMJ327|B001TCY2DO|     459122467|Pig Jumbo Foil Ba...|            Toys|          5|            0|          0|   N|                Y|   Nice huge balloon|Nice huge balloon...|2015-08-31 00:00:00|\n",
            "|         US|    7360347|R2BUV9QJI2A00X|B00DOQCWF8|     226984155|Minecraft Animal ...|            Toys|          5|            0|          1|   N|                Y|          Five Stars|          Great deal|2015-08-31 00:00:00|\n",
            "|         US|   11613707| RSUHRJFJIRB3Z|B004C04I4I|     375659886|Disney Baby: Eeyo...|            Toys|          4|            0|          0|   N|                Y|          Four Stars|       As Advertised|2015-08-31 00:00:00|\n",
            "|         US|   13545982|R1T96CG98BBA15|B00NWGEKBY|     933734136|Team Losi 8IGHT-E...|            Toys|          3|            2|          4|   N|                Y|... servo so expe...|Comes w a 15$ ser...|2015-08-31 00:00:00|\n",
            "|         US|   43880421| R2ATXF4QQ30YW|B00000JS5S|     341842639|Hot Wheels 48- Ca...|            Toys|          5|            0|          0|   N|                Y|          Five Stars|   awesome ! Thanks!|2015-08-31 00:00:00|\n",
            "|         US|    1662075|R1YS3DS218NNMD|B00XPWXYDK|     210135375|ZuZo 2.4GHz 4 CH ...|            Toys|          5|            4|          4|   N|                N|The closest relev...|I got this item f...|2015-08-31 00:00:00|\n",
            "|         US|   18461411|R2SDXLTLF92O0H|B00VPXX92W|     705054378|Teenage Mutant Ni...|            Toys|          5|            0|          0|   N|                Y|          Five Stars|It was a birthday...|2015-08-31 00:00:00|\n",
            "|         US|   27225859| R4R337CCDWLNG|B00YRA3H4U|     223420727|Franklin Sports M...|            Toys|          3|            0|          1|   Y|                N|Got wrong product...|Got a wrong produ...|2015-08-31 00:00:00|\n",
            "|         US|   20494593|R32Z6UA4S5Q630|B009T8BSQY|     787701676|Alien Frontiers: ...|            Toys|          1|            0|          0|   N|                Y|         Overpriced.|You need expansio...|2015-08-31 00:00:00|\n",
            "|         US|    6762003|R1H1HOVB44808I|B00PXWS1CY|     996611871|Holy Stone F180C ...|            Toys|          5|            1|          1|   N|                N|          Five Stars|Awesome customer ...|2015-08-31 00:00:00|\n",
            "|         US|   25402244| R4UVQIRZ5T1FM|1591749352|     741582499|Klutz Sticker Des...|            Toys|          4|            1|          2|   N|                Y|Great product for...|I got these for m...|2015-08-31 00:00:00|\n",
            "|         US|   32910511|R226K8IJLRPTIR|B00V5DM3RE|     587799706|Yoga Joes - Green...|            Toys|          5|            0|          1|   N|                Y|   Creative and fun!|My girlfriend and...|2015-08-31 00:00:00|\n",
            "|         US|   18206299|R3031Q42BKAN7J|B00UMSVHD4|     135383196|Lalaloopsy Girls ...|            Toys|          4|            1|          1|   N|                N|i like it but i a...|i like it but i a...|2015-08-31 00:00:00|\n",
            "|         US|   26599182| R44NP0QG6E98W|B00JLKI69W|     375626298|WOW Toys Town Adv...|            Toys|          3|            1|          1|   N|                Y|We love how well ...|We have MANY Wow ...|2015-08-31 00:00:00|\n",
            "|         US|     128540|R24VKWVWUMV3M3|B004S8F7QM|     829220659|Cards Against Hum...|            Toys|          5|            0|          0|   N|                Y|          Five Stars|         Tons of fun|2015-08-31 00:00:00|\n",
            "|         US|     125518|R2MW3TEBPWKENS|B00MZ6BR3Q|     145562057|Monster High Haun...|            Toys|          5|            0|          0|   N|                Y|          Five Stars|Love it great add...|2015-08-31 00:00:00|\n",
            "|         US|   15048896|R3N01IESYEYW01|B001CTOC8O|     278247652|Star Wars Clone W...|            Toys|          5|            0|          1|   N|                Y|          Five Stars|Exactly as descri...|2015-08-31 00:00:00|\n",
            "|         US|   12191231| RKLAK7EPEG5S6|B00BMKL5WY|     906199996|LEGO Creative Tow...|            Toys|          5|            1|          2|   N|                Y|The children LOVE...|Purchased these L...|2015-08-31 00:00:00|\n",
            "|         US|   18409006|R1HOJ5GOA2JWM0|B00L71H0F4|     692305292|Barkology Princes...|            Toys|          2|            1|          1|   N|                Y|My little dog can...|IT's OK, but not ...|2015-08-31 00:00:00|\n",
            "|         US|   42523709| RO5VL1EAPX6O3|B004CLZRM4|      59085350|Intex Mesh Lounge...|            Toys|          1|            0|          0|   N|                Y|Save your money.....|This was to be a ...|2015-08-31 00:00:00|\n",
            "|         US|   45601416|R3OSJU70OIBWVE|B000PEOMC8|     895316207|Intex River Run I...|            Toys|          5|            0|          0|   N|                Y|but I've bought o...|Ended up sending ...|2015-08-31 00:00:00|\n",
            "|         US|   47546726|R3NFZZCJSROBT4|B008W1BPWQ|     397107238|Peppa Pig 7 Wood ...|            Toys|          3|            0|          0|   N|                Y|         Three Stars|The product is go...|2015-08-31 00:00:00|\n",
            "|         US|   21448082| R47XBGQFP039N|B00FZX71BI|     480992295|Paraboard - Paral...|            Toys|          5|            0|          0|   N|                Y|CAN SAVE TME IF Y...|Works well ,quali...|2015-08-31 00:00:00|\n",
            "|         US|   12612039|R1JS8G26X4RM2G|B00D4NJSJE|     408940178|The Game of Life ...|            Toys|          5|            0|          1|   N|                Y|          Five Stars|         Great gift!|2015-08-31 00:00:00|\n",
            "|         US|   44928701|R1ORWPFQ9EDYA0|B000HZZT7W|     967346376|LCR Dice Game (Re...|            Toys|          5|            0|          0|   N|                Y|          Five Stars|We play this game...|2015-08-31 00:00:00|\n",
            "|         US|   43173394|R1YIX4SO32U0GT|B002G54DAA|      57447684|BCW - Deluxe Curr...|            Toys|          5|            0|          1|   N|                Y|BCW - Deluxe Curr...|Fits my $20 bill ...|2015-08-31 00:00:00|\n",
            "|         US|   11210951|R1W3QQZ8JKECCI|B003JT0L4Y|     876626440|Ocean Life Stamps...|            Toys|          5|            0|          0|   N|                Y|Fun for birthday ...|I ordered these f...|2015-08-31 00:00:00|\n",
            "|         US|   12918717|  RZX17JIYIPAR|B00KQUNNZ8|     644368246|New Age Scare Hal...|            Toys|          5|            0|          0|   N|                N|    Love the prints!|These paper lante...|2015-08-31 00:00:00|\n",
            "|         US|   47781982| RIDVQ4P3WJR42|B00WTGGGRO|     162262449|Pokemon - Double ...|            Toys|          5|            1|          1|   N|                Y|          Five Stars|My Grandson loves...|2015-08-31 00:00:00|\n",
            "|         US|   34874898|R1WQ3ME3JAG2O1|B00WAKEQLW|     824555589|Whiffer Sniffers ...|            Toys|          1|            0|          6|   N|                Y|            One Star|Received a pineap...|2015-08-31 00:00:00|\n",
            "|         US|   20962528| RNTPOUDQIICBF|B00M5AT30G|     548190970|AmiGami Fox and O...|            Toys|          4|            0|          0|   N|                Y|          Four Stars|Christmas gift fo...|2015-08-31 00:00:00|\n",
            "|         US|   47781982|R3AHZWWOL0IAV0|B00GNDY40U|     438056479|Pokemon - Gyarado...|            Toys|          5|            0|          0|   N|                Y|          Five Stars|My Grandson loves...|2015-08-31 00:00:00|\n",
            "|         US|   13328687|R3PDXKS9O2Z20B|B00WJ1OPMW|     120071056|LeapFrog LeapTV L...|            Toys|          5|            0|          0|   N|                N| they LOVE this game|Even though both ...|2015-08-31 00:00:00|\n",
            "|         US|   16245463|R23URALWA7IHWL|B00IGXV9UI|     765869385|Disney Planes: Fi...|            Toys|          5|            0|          0|   N|                Y|          Five Stars|My 5 year old son...|2015-08-31 00:00:00|\n",
            "|         US|   11916403|R36L8VKT9ZSUY6|B00JVY9J1M|     771795950|Winston Zeddmore ...|            Toys|          5|            0|          0|   N|                Y|          Five Stars|             love it|2015-08-31 00:00:00|\n",
            "|         US|    5543658|R23JRQR6VMY4TV|B008AL15M8|     211944547|Yu-Gi-Oh! - Solem...|            Toys|          5|            0|          0|   N|                Y|Absolutely one of...|Absolutely one of...|2015-08-31 00:00:00|\n",
            "|         US|   41168357|R3T73PQZZ9F6GT|B00CAEEDC0|      72805974|Seat Pets Car Sea...|            Toys|          5|            0|          0|   N|                Y|          Five Stars|really soft and cute|2015-08-31 00:00:00|\n",
            "|         US|   32866903|R300I65NW30Y19|B000TFLAZA|     149264874|Baby Einstein Oct...|            Toys|          5|            0|          0|   N|                Y|          Five Stars|baby loved it - s...|2015-08-31 00:00:00|\n",
            "+-----------+-----------+--------------+----------+--------------+--------------------+----------------+-----------+-------------+-----------+----+-----------------+--------------------+--------------------+-------------------+\n",
            "\n"
          ],
          "name": "stdout"
        }
      ]
    },
    {
      "cell_type": "markdown",
      "metadata": {
        "colab_type": "text",
        "id": "kdtKPZ1w_V3e"
      },
      "source": [
        "## Drop duplicates and incomplete rows"
      ]
    },
    {
      "cell_type": "code",
      "metadata": {
        "colab_type": "code",
        "id": "10qoqQv3_Y_w",
        "outputId": "f9ad45b1-a126-461f-a2d8-38f1addaa57d",
        "colab": {
          "base_uri": "https://localhost:8080/",
          "height": 68
        }
      },
      "source": [
        "print(df.count())\n",
        "df = df.dropna()\n",
        "print(df.count())\n",
        "df = df.dropDuplicates()\n",
        "print(df.count())"
      ],
      "execution_count": 34,
      "outputs": [
        {
          "output_type": "stream",
          "text": [
            "49\n",
            "49\n",
            "49\n"
          ],
          "name": "stdout"
        }
      ]
    },
    {
      "cell_type": "markdown",
      "metadata": {
        "colab_type": "text",
        "id": "GAgvBYkG_awE"
      },
      "source": [
        "## Examine the schema"
      ]
    },
    {
      "cell_type": "code",
      "metadata": {
        "colab_type": "code",
        "id": "SXtPi-Hw_dCe",
        "outputId": "c9dbd3ed-179f-48f1-945b-e0a4ed2c3453",
        "colab": {
          "base_uri": "https://localhost:8080/",
          "height": 306
        }
      },
      "source": [
        "df.printSchema()"
      ],
      "execution_count": 35,
      "outputs": [
        {
          "output_type": "stream",
          "text": [
            "root\n",
            " |-- marketplace: string (nullable = true)\n",
            " |-- customer_id: integer (nullable = true)\n",
            " |-- review_id: string (nullable = true)\n",
            " |-- product_id: string (nullable = true)\n",
            " |-- product_parent: integer (nullable = true)\n",
            " |-- product_title: string (nullable = true)\n",
            " |-- product_category: string (nullable = true)\n",
            " |-- star_rating: integer (nullable = true)\n",
            " |-- helpful_votes: integer (nullable = true)\n",
            " |-- total_votes: integer (nullable = true)\n",
            " |-- vine: string (nullable = true)\n",
            " |-- verified_purchase: string (nullable = true)\n",
            " |-- review_headline: string (nullable = true)\n",
            " |-- review_body: string (nullable = true)\n",
            " |-- review_date: timestamp (nullable = true)\n",
            "\n"
          ],
          "name": "stdout"
        }
      ]
    },
    {
      "cell_type": "markdown",
      "metadata": {
        "colab_type": "text",
        "id": "klopnaUE_eZV"
      },
      "source": [
        "## Rename columns"
      ]
    },
    {
      "cell_type": "code",
      "metadata": {
        "colab_type": "code",
        "id": "9b0dvAat_f7L",
        "outputId": "a1c92d35-1cb2-4a52-937b-6d89ed78b267",
        "colab": {
          "base_uri": "https://localhost:8080/",
          "height": 224
        }
      },
      "source": [
        "df1 = df.withColumnRenamed(\"product_id\", \"product_code\") \n",
        "#        .withColumnRenamed(\"Email\", \"email\") \\\n",
        "#        .withColumnRenamed(\"Gender\", \"gender\") \\\n",
        "#        .withColumnRenamed(\"Hire Date\", \"hire_date\") \\\n",
        "#        .withColumnRenamed(\"DOB\", \"dob\") \\\n",
        "#        .withColumnRenamed(\"Encrypted Password\", \"password\")\n",
        "df1.show(5)"
      ],
      "execution_count": 36,
      "outputs": [
        {
          "output_type": "stream",
          "text": [
            "+-----------+-----------+--------------+------------+--------------+--------------------+----------------+-----------+-------------+-----------+----+-----------------+--------------------+--------------------+-------------------+\n",
            "|marketplace|customer_id|     review_id|product_code|product_parent|       product_title|product_category|star_rating|helpful_votes|total_votes|vine|verified_purchase|     review_headline|         review_body|        review_date|\n",
            "+-----------+-----------+--------------+------------+--------------+--------------------+----------------+-----------+-------------+-----------+----+-----------------+--------------------+--------------------+-------------------+\n",
            "|         US|   44331596| R1UE3RPRGCOLD|  B002LHA74O|     818126353|Super Jumbo Playi...|            Toys|          2|            1|          1|   N|                Y|           Two Stars|Cards are not as ...|2015-08-31 00:00:00|\n",
            "|         US|   18409006|R1HOJ5GOA2JWM0|  B00L71H0F4|     692305292|Barkology Princes...|            Toys|          2|            1|          1|   N|                Y|My little dog can...|IT's OK, but not ...|2015-08-31 00:00:00|\n",
            "|         US|   41137196|R2RDOJQ0WBZCF6|  B00407S11Y|     383363775|Fun Express Insec...|            Toys|          5|            0|          0|   N|                Y|          Five Stars|I was pleased wit...|2015-08-31 00:00:00|\n",
            "|         US|    1662075|R1YS3DS218NNMD|  B00XPWXYDK|     210135375|ZuZo 2.4GHz 4 CH ...|            Toys|          5|            4|          4|   N|                N|The closest relev...|I got this item f...|2015-08-31 00:00:00|\n",
            "|         US|   45601416|R3OSJU70OIBWVE|  B000PEOMC8|     895316207|Intex River Run I...|            Toys|          5|            0|          0|   N|                Y|but I've bought o...|Ended up sending ...|2015-08-31 00:00:00|\n",
            "+-----------+-----------+--------------+------------+--------------+--------------------+----------------+-----------+-------------+-----------+----+-----------------+--------------------+--------------------+-------------------+\n",
            "only showing top 5 rows\n",
            "\n"
          ],
          "name": "stdout"
        }
      ]
    },
    {
      "cell_type": "markdown",
      "metadata": {
        "colab_type": "text",
        "id": "AbG7CtSA_gfw"
      },
      "source": [
        "## Create a new DataFrame for employee info"
      ]
    },
    {
      "cell_type": "code",
      "metadata": {
        "colab_type": "code",
        "id": "saJ1WiZb_ik6",
        "outputId": "ec225461-95e8-4585-9bea-a3b5e2771496",
        "colab": {
          "base_uri": "https://localhost:8080/",
          "height": 204
        }
      },
      "source": [
        "market_info = df1.select([\"product_code\", \"product_title\", \"star_rating\", \"vine\",\"review_date\"])\n",
        "market_info.show(5)"
      ],
      "execution_count": 44,
      "outputs": [
        {
          "output_type": "stream",
          "text": [
            "+------------+--------------------+-----------+----+-------------------+\n",
            "|product_code|       product_title|star_rating|vine|        review_date|\n",
            "+------------+--------------------+-----------+----+-------------------+\n",
            "|  B002LHA74O|Super Jumbo Playi...|          2|   N|2015-08-31 00:00:00|\n",
            "|  B00L71H0F4|Barkology Princes...|          2|   N|2015-08-31 00:00:00|\n",
            "|  B00407S11Y|Fun Express Insec...|          5|   N|2015-08-31 00:00:00|\n",
            "|  B00XPWXYDK|ZuZo 2.4GHz 4 CH ...|          5|   N|2015-08-31 00:00:00|\n",
            "|  B000PEOMC8|Intex River Run I...|          5|   N|2015-08-31 00:00:00|\n",
            "+------------+--------------------+-----------+----+-------------------+\n",
            "only showing top 5 rows\n",
            "\n"
          ],
          "name": "stdout"
        }
      ]
    },
    {
      "cell_type": "markdown",
      "metadata": {
        "colab_type": "text",
        "id": "0PDvBiVN_jGe"
      },
      "source": [
        "## Write DataFrame to RDS"
      ]
    },
    {
      "cell_type": "code",
      "metadata": {
        "colab_type": "code",
        "id": "fOIS3viE_leJ",
        "colab": {}
      },
      "source": [
        "# Configuration for RDS instance\n",
        "mode=\"append\"\n",
        "jdbc_url = \"jdbc:postgresql://alemi-database4.csa2ekppqcl0.us-east-2.rds.amazonaws.com:5432/alemi-db4\"\n",
        "config = {\"user\":\"postgres\",\n",
        "          \"password\": \"******\",\n",
        "          \"driver\":\"org.postgresql.Driver\"}"
      ],
      "execution_count": 0,
      "outputs": []
    },
    {
      "cell_type": "code",
      "metadata": {
        "colab_type": "code",
        "id": "K6_O84CK_nV5",
        "colab": {}
      },
      "source": [
        "# Write DataFrame to table\n",
        "df.write.jdbc(url=jdbc_url, table='Alemi_ETL_info', mode=mode, properties=config)"
      ],
      "execution_count": 0,
      "outputs": []
    },
    {
      "cell_type": "markdown",
      "metadata": {
        "colab_type": "text",
        "id": "_Or1RnPr_nzd"
      },
      "source": [
        "## Create a new DataFrame for Market Star Rating"
      ]
    },
    {
      "cell_type": "code",
      "metadata": {
        "colab_type": "code",
        "id": "7mDI_Xg9_q8_",
        "outputId": "ed52e8cd-864f-44d9-ec98-d3b442bdf98a",
        "colab": {
          "base_uri": "https://localhost:8080/",
          "height": 204
        }
      },
      "source": [
        "df3 = df.select([\"product_id\", \"product_title\", \"star_rating\"])\n",
        "df3.show(5)"
      ],
      "execution_count": 46,
      "outputs": [
        {
          "output_type": "stream",
          "text": [
            "+----------+--------------------+-----------+\n",
            "|product_id|       product_title|star_rating|\n",
            "+----------+--------------------+-----------+\n",
            "|B002LHA74O|Super Jumbo Playi...|          2|\n",
            "|B00L71H0F4|Barkology Princes...|          2|\n",
            "|B00407S11Y|Fun Express Insec...|          5|\n",
            "|B00XPWXYDK|ZuZo 2.4GHz 4 CH ...|          5|\n",
            "|B000PEOMC8|Intex River Run I...|          5|\n",
            "+----------+--------------------+-----------+\n",
            "only showing top 5 rows\n",
            "\n"
          ],
          "name": "stdout"
        }
      ]
    },
    {
      "cell_type": "markdown",
      "metadata": {
        "colab_type": "text",
        "id": "SCmoHROm_saU"
      },
      "source": [
        "## Write DataFrame to RDS"
      ]
    },
    {
      "cell_type": "code",
      "metadata": {
        "colab_type": "code",
        "id": "CNKz5FHg_uV9",
        "colab": {}
      },
      "source": [
        "# Write DataFrame to table\n",
        "\n",
        "df3.write.jdbc(url=jdbc_url, table='market_star_rating', mode=mode, properties=config)"
      ],
      "execution_count": 0,
      "outputs": []
    },
    {
      "cell_type": "code",
      "metadata": {
        "colab_type": "code",
        "id": "Tvw--Ool_vju",
        "colab": {}
      },
      "source": [
        ""
      ],
      "execution_count": 0,
      "outputs": []
    }
  ]
}